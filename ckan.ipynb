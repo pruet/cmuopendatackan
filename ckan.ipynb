{
 "cells": [
  {
   "cell_type": "markdown",
   "metadata": {},
   "source": [
    "## Notes\n",
    "1. Require config.json\n",
    "\n",
    "    {\n",
    "\t    \"api_key\" : \"xxxxx\",\n",
    "\t    \"server\" : \"https://data.reg.cmu.ac.th\",\n",
    "\t\t\"csv_file\" : \"ckan_data.csv\"\n",
    "    }"
   ]
  },
  {
   "cell_type": "markdown",
   "metadata": {},
   "source": [
    "## 0 Install required packages"
   ]
  },
  {
   "cell_type": "code",
   "execution_count": null,
   "metadata": {},
   "outputs": [],
   "source": [
    "import sys\n",
    "!{sys.executable} -m pip install pandas"
   ]
  },
  {
   "cell_type": "markdown",
   "metadata": {},
   "source": [
    "## 1 Load libraries and configurations"
   ]
  },
  {
   "cell_type": "code",
   "execution_count": 52,
   "metadata": {},
   "outputs": [],
   "source": [
    "import json\n",
    "import pprint\n",
    "import urllib\n",
    "import pandas as pd\n",
    "import requests\n",
    "\n",
    "# read configuration\n",
    "config_file = 'config.json'\n",
    "config = json.load(open(config_file))\n",
    "api_key = config['api_key']\n",
    "server = config['server']\n",
    "csv_file = config['csv_file']\n"
   ]
  },
  {
   "cell_type": "markdown",
   "metadata": {},
   "source": [
    "## 2 Function to submit request to server"
   ]
  },
  {
   "cell_type": "code",
   "execution_count": null,
   "metadata": {},
   "outputs": [],
   "source": [
    "def send_request_to_server(server, api_key, action_path, dataset_dict):\n",
    "\theaders_dict = {\n",
    "\t\t'Authorization': api_key,\n",
    "\t\t'Content-Type' : 'application/x-www-form-urlencoded'\n",
    "\t}\n",
    "\tif dataset_dict != None:\n",
    "\t\tdataset_dict = urllib.parse.quote(json.dumps(dataset_dict))\n",
    "\telse:\n",
    "\t\tdataset_dict = []\n",
    "\treq = requests.post(server + 'api/action/' + action_path, headers=headers_dict, data=dataset_dict)\n",
    "\t\n",
    "\t# Use the json module to load CKAN's response into a dictionary.\n",
    "\treturn req.json()"
   ]
  },
  {
   "cell_type": "markdown",
   "metadata": {},
   "source": [
    "## 3 Functions to handling CKAN"
   ]
  },
  {
   "cell_type": "code",
   "execution_count": null,
   "metadata": {},
   "outputs": [],
   "source": [
    "def create_package(server, api_key, dataset_dict):\n",
    "\tsend_request_to_server(server, api_key, 'package_create', dataset_dict)"
   ]
  },
  {
   "cell_type": "code",
   "execution_count": null,
   "metadata": {},
   "outputs": [],
   "source": [
    "def update_package(server, api_key, dataset_dict):\n",
    "\tsend_request_to_server(server, api_key, 'package_update', dataset_dict)"
   ]
  },
  {
   "cell_type": "code",
   "execution_count": null,
   "metadata": {},
   "outputs": [],
   "source": [
    "def get_package_info(server, api_key, package_name):\n",
    "\treturn send_request_to_server(server, api_key, 'package_show?id=' + package_name, None)"
   ]
  },
  {
   "cell_type": "code",
   "execution_count": null,
   "metadata": {},
   "outputs": [],
   "source": [
    "def get_resource_search_name_name(server, api_key, resource_name):\n",
    "\tresponse = send_request_to_server(server, api_key, 'resource_search?query=name:' + resource_name, None)\n",
    "\tif response['result']['count'] > 0:\n",
    "\t\treturn response['result']['results'][0]\n",
    "\treturn None"
   ]
  },
  {
   "cell_type": "code",
   "execution_count": null,
   "metadata": {},
   "outputs": [],
   "source": [
    "def create_resource(server, api_key, dataset_dict):\n",
    "\tpackage_info = get_package_info(server, api_key, dataset_dict['name'])\n",
    "\tpackage_id = package_info['result']['id']\n",
    "\tdataset_dict_resource = {\n",
    "\t\t'package_id' : package_id,\n",
    "\t\t'url' : dataset_dict['resource_url'],\n",
    "\t\t'name' : dataset_dict['resource_name'],\n",
    "\t\t'description' : dataset_dict['resource_description'],\n",
    "\t\t'format' : dataset_dict['resource_format']\n",
    "\t}\n",
    "\tresource = get_resource_search_name_name(server, api_key, dataset_dict['resource_name'])\n",
    "\tif resource == None:\n",
    "\t\tsend_request_to_server(server, api_key, 'resource_create', dataset_dict_resource)\n",
    "\telse:\n",
    "\t\tdataset_dict_resource['id'] = resource['id']\n",
    "\t\tsend_request_to_server(server, api_key, 'resource_update', dataset_dict_resource)"
   ]
  },
  {
   "cell_type": "markdown",
   "metadata": {},
   "source": [
    "## 4 Main code"
   ]
  },
  {
   "cell_type": "code",
   "execution_count": null,
   "metadata": {},
   "outputs": [],
   "source": [
    "df = pd.read_csv(csv_file)\n",
    "for index, row in df.iterrows():\n",
    "\ttags = row['Tags'].split(',')\n",
    "\ttag_list= []\n",
    "\tfor tag in tags:\n",
    "\t\ttag_list.append({'name' : tag})\n",
    "\tdataset_dict = {\n",
    "\t\t'owner_org' : row['Organization'],\n",
    "\t\t'groups' : [\n",
    "\t\t\t{'id' : row['Group']}\n",
    "\t\t],\n",
    "\t\t'name' : row['Name'],\n",
    "\t\t'title' : row['Title'],\n",
    "\t\t'author' : row['Author'],\n",
    "\t\t'notes' : row['Notes'],\n",
    "\t\t'author_email' : row['AuthorEmail'],\n",
    "\t\t'maintainer' : row['Maintainer'],\n",
    "\t\t'maintainer_email' : row['MaintainerEmail'],\n",
    "\t\t'url' : row['Url'],\n",
    "\t\t'tags' : tag_list,\n",
    "\t\t'resource_name' : row['ResourceName'],\n",
    "\t\t'resource_url' : row['ResourceUrl'],\n",
    "\t\t'resource_format' : row['ResourceFormat'],\n",
    "\t\t'resource_description' : row['ResourceDescripiton'],\n",
    "\t\t'extras' : [\n",
    "\t\t\t{'key' : 'PublicAccess', 'value' : row['PublicAccess']},\n",
    "\t\t\t{'key' : 'UniversityAccess', 'value' : row['UniversityAccess']},\n",
    "\t\t\t{'key' : 'FacultyAccess', 'value' : row['FacultyAccess']},\n",
    "\t\t\t{'key' : 'DepartmentAccess', 'value' : row['DepartmentAccess']},\n",
    "\t\t\t{'key' : 'AdvisorAccess', 'value' : row['AdvisorAccess'] },\n",
    "\t\t\t{'key' : 'StudentAccess', 'value' : row['StudentAccess']},\n",
    "\t\t\t{'key' : 'PDPA', 'value' : row['PDPA']},\n",
    "\t\t\t{'key' : 'RetainPolicy', 'value' : row['ReatainPolicy'] },\n",
    "\t\t\t{'key' : 'UpdatePolicy', 'value' : row['UpdatePolicy'] }\n",
    "\t\t]\n",
    "\t}\n",
    "\tcreate_package(server, api_key, dataset_dict)\n",
    "\tcreate_resource(server, api_key, dataset_dict)"
   ]
  }
 ],
 "metadata": {
  "interpreter": {
   "hash": "2a52278e80fd9c6a8d1992affb6b47f8c6981ea12db6928e5c6f7021ed7e87b3"
  },
  "kernelspec": {
   "display_name": "Python 3.9.9 64-bit (windows store)",
   "language": "python",
   "name": "python3"
  },
  "language_info": {
   "codemirror_mode": {
    "name": "ipython",
    "version": 3
   },
   "file_extension": ".py",
   "mimetype": "text/x-python",
   "name": "python",
   "nbconvert_exporter": "python",
   "pygments_lexer": "ipython3",
   "version": "3.9.9"
  },
  "orig_nbformat": 4
 },
 "nbformat": 4,
 "nbformat_minor": 2
}
