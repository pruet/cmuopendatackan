{
 "cells": [
  {
   "cell_type": "markdown",
   "metadata": {},
   "source": [
    "## Notes\n",
    "1. Require config.json\n",
    "\n",
    "    {\n",
    "\t    \"api_key\" : \"xxxxx\",\n",
    "\t    \"server\" : \"https://data.reg.cmu.ac.th\",\n",
    "\t\t\"csv_file\" : \"ckan_data.csv\"\n",
    "    }"
   ]
  },
  {
   "cell_type": "markdown",
   "metadata": {},
   "source": [
    "## 0 Install required packages"
   ]
  },
  {
   "cell_type": "code",
   "execution_count": 2,
   "metadata": {},
   "outputs": [
    {
     "name": "stdout",
     "output_type": "stream",
     "text": [
      "Requirement already satisfied: pandas in c:\\users\\pruet\\appdata\\local\\packages\\pythonsoftwarefoundation.python.3.9_qbz5n2kfra8p0\\localcache\\local-packages\\python39\\site-packages (1.2.3)\n",
      "Requirement already satisfied: numpy>=1.16.5 in c:\\users\\pruet\\appdata\\local\\packages\\pythonsoftwarefoundation.python.3.9_qbz5n2kfra8p0\\localcache\\local-packages\\python39\\site-packages (from pandas) (1.20.2)\n",
      "Requirement already satisfied: pytz>=2017.3 in c:\\users\\pruet\\appdata\\local\\packages\\pythonsoftwarefoundation.python.3.9_qbz5n2kfra8p0\\localcache\\local-packages\\python39\\site-packages (from pandas) (2021.1)\n",
      "Requirement already satisfied: python-dateutil>=2.7.3 in c:\\users\\pruet\\appdata\\local\\packages\\pythonsoftwarefoundation.python.3.9_qbz5n2kfra8p0\\localcache\\local-packages\\python39\\site-packages (from pandas) (2.8.1)\n",
      "Requirement already satisfied: six>=1.5 in c:\\users\\pruet\\appdata\\local\\packages\\pythonsoftwarefoundation.python.3.9_qbz5n2kfra8p0\\localcache\\local-packages\\python39\\site-packages (from python-dateutil>=2.7.3->pandas) (1.15.0)\n"
     ]
    },
    {
     "name": "stderr",
     "output_type": "stream",
     "text": [
      "WARNING: You are using pip version 21.2.4; however, version 21.3.1 is available.\n",
      "You should consider upgrading via the 'C:\\Users\\pruet\\AppData\\Local\\Microsoft\\WindowsApps\\PythonSoftwareFoundation.Python.3.9_qbz5n2kfra8p0\\python.exe -m pip install --upgrade pip' command.\n"
     ]
    }
   ],
   "source": [
    "import sys\n",
    "!{sys.executable} -m pip install pandas"
   ]
  },
  {
   "cell_type": "markdown",
   "metadata": {},
   "source": [
    "## 1 Load libraries and configurations"
   ]
  },
  {
   "cell_type": "code",
   "execution_count": 3,
   "metadata": {},
   "outputs": [],
   "source": [
    "import json\n",
    "import pprint\n",
    "import urllib\n",
    "import pandas as pd\n",
    "import requests\n",
    "\n",
    "# read configuration\n",
    "config_file = 'config.json'\n",
    "config = json.load(open(config_file))\n",
    "api_key = config['api_key']\n",
    "server = config['server']\n",
    "csv_file = config['csv_file']\n"
   ]
  },
  {
   "cell_type": "markdown",
   "metadata": {},
   "source": [
    "## 2 Function to submit request to server"
   ]
  },
  {
   "cell_type": "code",
   "execution_count": 4,
   "metadata": {},
   "outputs": [],
   "source": [
    "def send_request_to_server(server, api_key, action_path, dataset_dict):\n",
    "\theaders_dict = {\n",
    "\t\t'Authorization': api_key,\n",
    "\t\t'Content-Type' : 'application/x-www-form-urlencoded'\n",
    "\t}\n",
    "\tif dataset_dict != None:\n",
    "\t\tdataset_dict = urllib.parse.quote(json.dumps(dataset_dict))\n",
    "\telse:\n",
    "\t\tdataset_dict = []\n",
    "\treq = requests.post(server + 'api/action/' + action_path, headers=headers_dict, data=dataset_dict)\n",
    "\t\n",
    "\t# Use the json module to load CKAN's response into a dictionary.\n",
    "\treturn req.json()"
   ]
  },
  {
   "cell_type": "markdown",
   "metadata": {},
   "source": [
    "## 3 Functions to handling CKAN"
   ]
  },
  {
   "cell_type": "code",
   "execution_count": 5,
   "metadata": {},
   "outputs": [],
   "source": [
    "def create_package(server, api_key, dataset_dict):\n",
    "\tresponse = send_request_to_server(server, api_key, 'package_create', dataset_dict)\n",
    "\tif response['success'] == False:\n",
    "\t\tprint(response)\n",
    "\treturn response['success']"
   ]
  },
  {
   "cell_type": "code",
   "execution_count": 6,
   "metadata": {},
   "outputs": [],
   "source": [
    "def update_package(server, api_key, dataset_dict):\n",
    "\tresponse = send_request_to_server(server, api_key, 'package_update', dataset_dict)\n",
    "\tif response['success'] == False:\n",
    "\t\tprint(response)\n",
    "\treturn response['success']"
   ]
  },
  {
   "cell_type": "code",
   "execution_count": 7,
   "metadata": {},
   "outputs": [],
   "source": [
    "def get_package_info(server, api_key, package_name):\n",
    "\treturn send_request_to_server(server, api_key, 'package_show?id=' + package_name, None)"
   ]
  },
  {
   "cell_type": "code",
   "execution_count": 8,
   "metadata": {},
   "outputs": [],
   "source": [
    "def get_resource_search_name_name(server, api_key, resource_name):\n",
    "\tresponse = send_request_to_server(server, api_key, 'resource_search?query=name:' + resource_name, None)\n",
    "\tif response['result']['count'] > 0:\n",
    "\t\treturn response['result']['results'][0]\n",
    "\treturn None"
   ]
  },
  {
   "cell_type": "code",
   "execution_count": 20,
   "metadata": {},
   "outputs": [],
   "source": [
    "def create_resource(server, api_key, dataset_dict):\n",
    "\tprint(dataset_dict['name'])\n",
    "\tpackage_info = get_package_info(server, api_key, dataset_dict['name'])\n",
    "\tpackage_id = package_info['result']['id']\n",
    "\tprint(package_id)\n",
    "\tdataset_dict_resource = {\n",
    "\t\t'package_id' : package_id,\n",
    "\t\t'url' : dataset_dict['resource_url'],\n",
    "\t\t'name' : dataset_dict['resource_name'],\n",
    "\t\t'description' : dataset_dict['resource_description'],\n",
    "\t\t'format' : dataset_dict['resource_format']\n",
    "\t}\n",
    "\tresource = get_resource_search_name_name(server, api_key, dataset_dict['resource_name'])\n",
    "\tif resource == None:\n",
    "\t\tresponse = send_request_to_server(server, api_key, 'resource_create', dataset_dict_resource)\n",
    "\telse:\n",
    "\t\tdataset_dict_resource['id'] = resource['id']\n",
    "\t\tresponse = send_request_to_server(server, api_key, 'resource_update', dataset_dict_resource)\n",
    "\tif response['success'] == False:\n",
    "\t\tprint(response)\n",
    "\treturn response['success']"
   ]
  },
  {
   "cell_type": "markdown",
   "metadata": {},
   "source": [
    "## 4 Main code"
   ]
  },
  {
   "cell_type": "code",
   "execution_count": 21,
   "metadata": {},
   "outputs": [
    {
     "name": "stdout",
     "output_type": "stream",
     "text": [
      "bulletin\n",
      "{'help': 'http://10.110.2.208/api/3/action/help_show?name=package_show', 'success': True, 'result': {'author': 'Pruet Boonma', 'author_email': 'pruet.b@cmu.ac.th', 'creator_user_id': '71acce18-1a54-43b2-adb7-23a0494312f6', 'id': 'eedc515e-5ae9-471d-b9e5-3693a51cdfed', 'isopen': False, 'license_id': None, 'license_title': None, 'maintainer': 'Pruet Boonma', 'maintainer_email': 'pruet.b@cmu.ac.th', 'metadata_created': '2021-12-02T02:32:33.408440', 'metadata_modified': '2021-12-02T02:42:20.770734', 'name': 'bulletin', 'notes': \"Course information, as of CMU's bulletin.\", 'num_resources': 1, 'num_tags': 2, 'organization': {'id': '12b44fd7-a60c-4f0a-a0a0-254f7b307ff3', 'name': 'registrationoffice', 'title': 'Registration Office', 'type': 'organization', 'description': '', 'image_url': 'https://www.reg.cmu.ac.th/webreg/wp-content/uploads/2020/07/cropped-reglogo-1-4.png', 'created': '2021-11-30T16:11:00.017034', 'is_organization': True, 'approval_status': 'approved', 'state': 'active'}, 'owner_org': '12b44fd7-a60c-4f0a-a0a0-254f7b307ff3', 'private': False, 'state': 'active', 'title': 'Bulletin', 'type': 'dataset', 'url': 'http://apiv2.reg.cmu.ac.th/explorer/', 'version': None, 'extras': [{'key': 'AdvisorAccess', 'value': 'All'}, {'key': 'DepartmentAccess', 'value': 'All'}, {'key': 'FacultyAccess', 'value': 'All'}, {'key': 'PDPA', 'value': 'Public'}, {'key': 'PublicAccess', 'value': 'All'}, {'key': 'RetainPolicy', 'value': 'Permanent Record'}, {'key': 'StudentAccess', 'value': 'All'}, {'key': 'UniversityAccess', 'value': 'All'}, {'key': 'UpdatePolicy', 'value': 'Daily'}], 'resources': [{'cache_last_updated': None, 'cache_url': None, 'created': '2021-12-02T02:39:43.582438', 'description': 'API JSON Schema', 'format': 'API', 'hash': '', 'id': '1dca94cb-1bf4-4eff-990a-3d70b1c1e932', 'last_modified': None, 'metadata_modified': '2021-12-02T02:42:20.775033', 'mimetype': 'application/json', 'mimetype_inner': None, 'name': 'API JSON Schema', 'package_id': 'eedc515e-5ae9-471d-b9e5-3693a51cdfed', 'position': 0, 'resource_type': None, 'size': None, 'state': 'active', 'url': 'https://data.reg.cmu.ac.th/dataset/30998c8f-a708-4a58-a3e4-1bf2b2e3f998/resource/d680567c-4d56-4661-8dcc-ac3fff0f116d/download/schema.json', 'url_type': None}], 'tags': [{'display_name': 'bulletin', 'id': '4d988f1f-5e68-4675-affc-b5812e7f88e9', 'name': 'bulletin', 'state': 'active', 'vocabulary_id': None}, {'display_name': 'course', 'id': '9e421f4c-849d-4898-a524-18aa27811e8b', 'name': 'course', 'state': 'active', 'vocabulary_id': None}], 'groups': [], 'relationships_as_subject': [], 'relationships_as_object': []}}\n",
      "eedc515e-5ae9-471d-b9e5-3693a51cdfed\n",
      "currentstudent\n",
      "{'help': 'http://10.110.2.208/api/3/action/help_show?name=package_show', 'success': True, 'result': {'author': 'Pruet Boonma', 'author_email': 'pruet.b@cmu.ac.th', 'creator_user_id': '71acce18-1a54-43b2-adb7-23a0494312f6', 'id': '4eb9c253-4dd1-4ae9-8179-a40a4f3a59c2', 'isopen': False, 'license_id': None, 'license_title': None, 'maintainer': 'Pruet Boonma', 'maintainer_email': 'pruet.b@cmu.ac.th', 'metadata_created': '2021-12-02T02:32:34.078682', 'metadata_modified': '2021-12-02T02:39:43.781240', 'name': 'currentstudent', 'notes': 'Information about active students, of all levels and types.', 'num_resources': 0, 'num_tags': 2, 'organization': {'id': '12b44fd7-a60c-4f0a-a0a0-254f7b307ff3', 'name': 'registrationoffice', 'title': 'Registration Office', 'type': 'organization', 'description': '', 'image_url': 'https://www.reg.cmu.ac.th/webreg/wp-content/uploads/2020/07/cropped-reglogo-1-4.png', 'created': '2021-11-30T16:11:00.017034', 'is_organization': True, 'approval_status': 'approved', 'state': 'active'}, 'owner_org': '12b44fd7-a60c-4f0a-a0a0-254f7b307ff3', 'private': False, 'state': 'active', 'title': 'Current Student', 'type': 'dataset', 'url': 'http://apiv2.reg.cmu.ac.th/explorer/', 'version': None, 'extras': [{'key': 'AdvisorAccess', 'value': 'OwnAdvisee'}, {'key': 'DepartmentAccess', 'value': 'OwnDepartment'}, {'key': 'FacultyAccess', 'value': 'OwnFaculty'}, {'key': 'PDPA', 'value': 'Private'}, {'key': 'PublicAccess', 'value': 'No'}, {'key': 'RetainPolicy', 'value': 'Delete with retired/graduated'}, {'key': 'StudentAccess', 'value': 'OwnRecord'}, {'key': 'UniversityAccess', 'value': 'All'}, {'key': 'UpdatePolicy', 'value': 'Daily'}], 'tags': [{'display_name': 'current', 'id': '8be1e447-5fb1-461d-9288-8590d416399b', 'name': 'current', 'state': 'active', 'vocabulary_id': None}, {'display_name': 'student', 'id': '0dde448d-6437-4086-9d8f-57c13fc9ff22', 'name': 'student', 'state': 'active', 'vocabulary_id': None}], 'resources': [], 'groups': [], 'relationships_as_subject': [], 'relationships_as_object': []}}\n",
      "4eb9c253-4dd1-4ae9-8179-a40a4f3a59c2\n",
      "currentstudentrecord\n",
      "{'help': 'http://10.110.2.208/api/3/action/help_show?name=package_show', 'success': True, 'result': {'author': 'Pruet Boonma', 'author_email': 'pruet.b@cmu.ac.th', 'creator_user_id': '71acce18-1a54-43b2-adb7-23a0494312f6', 'id': '25a9a6cf-6049-4c79-9dbb-46b814338674', 'isopen': False, 'license_id': None, 'license_title': None, 'maintainer': 'Pruet Boonma', 'maintainer_email': 'pruet.b@cmu.ac.th', 'metadata_created': '2021-12-02T02:32:34.837730', 'metadata_modified': '2021-12-02T02:39:44.302270', 'name': 'currentstudentrecord', 'notes': 'Active student record, i.e., GPA and accumulative credit, per semester', 'num_resources': 0, 'num_tags': 4, 'organization': {'id': '12b44fd7-a60c-4f0a-a0a0-254f7b307ff3', 'name': 'registrationoffice', 'title': 'Registration Office', 'type': 'organization', 'description': '', 'image_url': 'https://www.reg.cmu.ac.th/webreg/wp-content/uploads/2020/07/cropped-reglogo-1-4.png', 'created': '2021-11-30T16:11:00.017034', 'is_organization': True, 'approval_status': 'approved', 'state': 'active'}, 'owner_org': '12b44fd7-a60c-4f0a-a0a0-254f7b307ff3', 'private': False, 'state': 'active', 'title': 'Current Student Record', 'type': 'dataset', 'url': 'http://apiv2.reg.cmu.ac.th/explorer/', 'version': None, 'extras': [{'key': 'AdvisorAccess', 'value': 'OwnAdvisee'}, {'key': 'DepartmentAccess', 'value': 'OwnDepartment'}, {'key': 'FacultyAccess', 'value': 'OwnFaculty'}, {'key': 'PDPA', 'value': 'Sensitive'}, {'key': 'PublicAccess', 'value': 'No'}, {'key': 'RetainPolicy', 'value': 'Delete with retired/graduated'}, {'key': 'StudentAccess', 'value': 'OwnRecord'}, {'key': 'UniversityAccess', 'value': 'All'}, {'key': 'UpdatePolicy', 'value': 'Daily'}], 'tags': [{'display_name': 'gpa', 'id': 'a4fc31d8-4d60-4510-9bfc-159246ebfc47', 'name': 'gpa', 'state': 'active', 'vocabulary_id': None}, {'display_name': 'record', 'id': 'd06c47a2-5d8b-402d-913f-0981a41c5250', 'name': 'record', 'state': 'active', 'vocabulary_id': None}, {'display_name': 'semester', 'id': '3c7d3c85-2619-4808-898f-637dc184d50c', 'name': 'semester', 'state': 'active', 'vocabulary_id': None}, {'display_name': 'student', 'id': '0dde448d-6437-4086-9d8f-57c13fc9ff22', 'name': 'student', 'state': 'active', 'vocabulary_id': None}], 'resources': [], 'groups': [], 'relationships_as_subject': [], 'relationships_as_object': []}}\n",
      "25a9a6cf-6049-4c79-9dbb-46b814338674\n",
      "currentstudentregistration\n",
      "{'help': 'http://10.110.2.208/api/3/action/help_show?name=package_show', 'success': True, 'result': {'author': 'Pruet Boonma', 'author_email': 'pruet.b@cmu.ac.th', 'creator_user_id': '71acce18-1a54-43b2-adb7-23a0494312f6', 'id': '4e2ed87d-ac44-4abf-8fdd-a81c1257529e', 'isopen': False, 'license_id': None, 'license_title': None, 'maintainer': 'Pruet Boonma', 'maintainer_email': 'pruet.b@cmu.ac.th', 'metadata_created': '2021-12-02T02:32:35.654587', 'metadata_modified': '2021-12-02T02:39:44.803395', 'name': 'currentstudentregistration', 'notes': 'Student course registration, with grade (if available) per course per semester', 'num_resources': 0, 'num_tags': 4, 'organization': {'id': '12b44fd7-a60c-4f0a-a0a0-254f7b307ff3', 'name': 'registrationoffice', 'title': 'Registration Office', 'type': 'organization', 'description': '', 'image_url': 'https://www.reg.cmu.ac.th/webreg/wp-content/uploads/2020/07/cropped-reglogo-1-4.png', 'created': '2021-11-30T16:11:00.017034', 'is_organization': True, 'approval_status': 'approved', 'state': 'active'}, 'owner_org': '12b44fd7-a60c-4f0a-a0a0-254f7b307ff3', 'private': False, 'state': 'active', 'title': 'Current Student Registration', 'type': 'dataset', 'url': 'http://apiv2.reg.cmu.ac.th/explorer/', 'version': None, 'extras': [{'key': 'AdvisorAccess', 'value': 'OwnAdvisee'}, {'key': 'DepartmentAccess', 'value': 'OwnDepartment'}, {'key': 'FacultyAccess', 'value': 'OwnFaculty'}, {'key': 'PDPA', 'value': 'Sensitive'}, {'key': 'PublicAccess', 'value': 'No'}, {'key': 'RetainPolicy', 'value': 'Delete at the end of semester'}, {'key': 'StudentAccess', 'value': 'OwnRecord'}, {'key': 'UniversityAccess', 'value': 'All'}, {'key': 'UpdatePolicy', 'value': 'Daily'}], 'tags': [{'display_name': 'course', 'id': '9e421f4c-849d-4898-a524-18aa27811e8b', 'name': 'course', 'state': 'active', 'vocabulary_id': None}, {'display_name': 'registration', 'id': '3949ecba-cb3d-42ef-9d7c-21003bf8b1e6', 'name': 'registration', 'state': 'active', 'vocabulary_id': None}, {'display_name': 'semester', 'id': '3c7d3c85-2619-4808-898f-637dc184d50c', 'name': 'semester', 'state': 'active', 'vocabulary_id': None}, {'display_name': 'student', 'id': '0dde448d-6437-4086-9d8f-57c13fc9ff22', 'name': 'student', 'state': 'active', 'vocabulary_id': None}], 'resources': [], 'groups': [], 'relationships_as_subject': [], 'relationships_as_object': []}}\n",
      "4e2ed87d-ac44-4abf-8fdd-a81c1257529e\n",
      "currentstudentyearlyregistration\n",
      "{'help': 'http://10.110.2.208/api/3/action/help_show?name=package_show', 'success': True, 'result': {'author': 'Pruet Boonma', 'author_email': 'pruet.b@cmu.ac.th', 'creator_user_id': '71acce18-1a54-43b2-adb7-23a0494312f6', 'id': 'b273191e-e0af-4339-bcec-7f9aaae48475', 'isopen': False, 'license_id': None, 'license_title': None, 'maintainer': 'Pruet Boonma', 'maintainer_email': 'pruet.b@cmu.ac.th', 'metadata_created': '2021-12-02T02:32:36.336958', 'metadata_modified': '2021-12-02T02:39:45.389727', 'name': 'currentstudentyearlyregistration', 'notes': 'Student course registration, with grade (if available) per course for yearly registration', 'num_resources': 0, 'num_tags': 4, 'organization': {'id': '12b44fd7-a60c-4f0a-a0a0-254f7b307ff3', 'name': 'registrationoffice', 'title': 'Registration Office', 'type': 'organization', 'description': '', 'image_url': 'https://www.reg.cmu.ac.th/webreg/wp-content/uploads/2020/07/cropped-reglogo-1-4.png', 'created': '2021-11-30T16:11:00.017034', 'is_organization': True, 'approval_status': 'approved', 'state': 'active'}, 'owner_org': '12b44fd7-a60c-4f0a-a0a0-254f7b307ff3', 'private': False, 'state': 'active', 'title': 'Current Student Yearly Registration', 'type': 'dataset', 'url': 'http://apiv2.reg.cmu.ac.th/explorer/', 'version': None, 'extras': [{'key': 'AdvisorAccess', 'value': 'OwnAdvisee'}, {'key': 'DepartmentAccess', 'value': 'OwnDepartment'}, {'key': 'FacultyAccess', 'value': 'OwnFaculty'}, {'key': 'PDPA', 'value': 'Sensitive'}, {'key': 'PublicAccess', 'value': 'No'}, {'key': 'RetainPolicy', 'value': 'Delete at the end of semester'}, {'key': 'StudentAccess', 'value': 'OwnRecord'}, {'key': 'UniversityAccess', 'value': 'All'}, {'key': 'UpdatePolicy', 'value': 'Daily'}], 'tags': [{'display_name': 'course', 'id': '9e421f4c-849d-4898-a524-18aa27811e8b', 'name': 'course', 'state': 'active', 'vocabulary_id': None}, {'display_name': 'registration', 'id': '3949ecba-cb3d-42ef-9d7c-21003bf8b1e6', 'name': 'registration', 'state': 'active', 'vocabulary_id': None}, {'display_name': 'student', 'id': '0dde448d-6437-4086-9d8f-57c13fc9ff22', 'name': 'student', 'state': 'active', 'vocabulary_id': None}, {'display_name': 'yearly', 'id': '810865fe-3270-4bb9-90a8-65abb68833f2', 'name': 'yearly', 'state': 'active', 'vocabulary_id': None}], 'resources': [], 'groups': [], 'relationships_as_subject': [], 'relationships_as_object': []}}\n",
      "b273191e-e0af-4339-bcec-7f9aaae48475\n",
      "curriculum\n",
      "{'help': 'http://10.110.2.208/api/3/action/help_show?name=package_show', 'success': True, 'result': {'author': 'Pruet Boonma', 'author_email': 'pruet.b@cmu.ac.th', 'creator_user_id': '71acce18-1a54-43b2-adb7-23a0494312f6', 'id': '7d0de8fa-ce12-4aec-a996-12d23de0c5b1', 'isopen': False, 'license_id': None, 'license_title': None, 'maintainer': 'Pruet Boonma', 'maintainer_email': 'pruet.b@cmu.ac.th', 'metadata_created': '2021-12-02T02:33:38.674166', 'metadata_modified': '2021-12-02T02:39:45.969392', 'name': 'curriculum', 'notes': \"curriculum's information\", 'num_resources': 0, 'num_tags': 1, 'organization': {'id': '12b44fd7-a60c-4f0a-a0a0-254f7b307ff3', 'name': 'registrationoffice', 'title': 'Registration Office', 'type': 'organization', 'description': '', 'image_url': 'https://www.reg.cmu.ac.th/webreg/wp-content/uploads/2020/07/cropped-reglogo-1-4.png', 'created': '2021-11-30T16:11:00.017034', 'is_organization': True, 'approval_status': 'approved', 'state': 'active'}, 'owner_org': '12b44fd7-a60c-4f0a-a0a0-254f7b307ff3', 'private': False, 'state': 'active', 'title': 'Curriculum', 'type': 'dataset', 'url': 'http://apiv2.reg.cmu.ac.th/explorer/', 'version': None, 'extras': [{'key': 'AdvisorAccess', 'value': 'All'}, {'key': 'DepartmentAccess', 'value': 'All'}, {'key': 'FacultyAccess', 'value': 'All'}, {'key': 'PDPA', 'value': 'Public'}, {'key': 'PublicAccess', 'value': 'All'}, {'key': 'RetainPolicy', 'value': 'Permanent Record'}, {'key': 'StudentAccess', 'value': 'All'}, {'key': 'UniversityAccess', 'value': 'All'}, {'key': 'UpdatePolicy', 'value': 'Daily'}], 'tags': [{'display_name': 'curriculum', 'id': '37d633bf-9b09-4dd4-80c3-52546b92e45f', 'name': 'curriculum', 'state': 'active', 'vocabulary_id': None}], 'resources': [], 'groups': [], 'relationships_as_subject': [], 'relationships_as_object': []}}\n",
      "7d0de8fa-ce12-4aec-a996-12d23de0c5b1\n",
      "dischargedstudent\n",
      "{'help': 'http://10.110.2.208/api/3/action/help_show?name=package_show', 'success': True, 'result': {'author': 'Pruet Boonma', 'author_email': 'pruet.b@cmu.ac.th', 'creator_user_id': '71acce18-1a54-43b2-adb7-23a0494312f6', 'id': '65279c44-bb36-406e-9537-5c6c1f4d26fe', 'isopen': False, 'license_id': None, 'license_title': None, 'maintainer': 'Pruet Boonma', 'maintainer_email': 'pruet.b@cmu.ac.th', 'metadata_created': '2021-12-02T02:32:36.905032', 'metadata_modified': '2021-12-02T02:39:46.547461', 'name': 'dischargedstudent', 'notes': 'Personal information of discharged students, of all levels and types.', 'num_resources': 0, 'num_tags': 2, 'organization': {'id': '12b44fd7-a60c-4f0a-a0a0-254f7b307ff3', 'name': 'registrationoffice', 'title': 'Registration Office', 'type': 'organization', 'description': '', 'image_url': 'https://www.reg.cmu.ac.th/webreg/wp-content/uploads/2020/07/cropped-reglogo-1-4.png', 'created': '2021-11-30T16:11:00.017034', 'is_organization': True, 'approval_status': 'approved', 'state': 'active'}, 'owner_org': '12b44fd7-a60c-4f0a-a0a0-254f7b307ff3', 'private': False, 'state': 'active', 'title': 'Discharged Student', 'type': 'dataset', 'url': 'http://apiv2.reg.cmu.ac.th/explorer/', 'version': None, 'extras': [{'key': 'AdvisorAccess', 'value': 'No'}, {'key': 'DepartmentAccess', 'value': 'OwnDepartment'}, {'key': 'FacultyAccess', 'value': 'OwnFaculty'}, {'key': 'PDPA', 'value': 'Private'}, {'key': 'PublicAccess', 'value': 'No'}, {'key': 'RetainPolicy', 'value': 'Permanent Record'}, {'key': 'StudentAccess', 'value': 'No'}, {'key': 'UniversityAccess', 'value': 'All'}, {'key': 'UpdatePolicy', 'value': 'Daily'}], 'tags': [{'display_name': 'discharged', 'id': 'd64a429f-c7e5-4979-af31-c24ee158027d', 'name': 'discharged', 'state': 'active', 'vocabulary_id': None}, {'display_name': 'student', 'id': '0dde448d-6437-4086-9d8f-57c13fc9ff22', 'name': 'student', 'state': 'active', 'vocabulary_id': None}], 'resources': [], 'groups': [], 'relationships_as_subject': [], 'relationships_as_object': []}}\n",
      "65279c44-bb36-406e-9537-5c6c1f4d26fe\n",
      "dischargedstudentrecord\n",
      "{'help': 'http://10.110.2.208/api/3/action/help_show?name=package_show', 'success': True, 'result': {'author': 'Pruet Boonma', 'author_email': 'pruet.b@cmu.ac.th', 'creator_user_id': '71acce18-1a54-43b2-adb7-23a0494312f6', 'id': 'b90d12ad-6663-41ed-b957-ee5592cfe9f7', 'isopen': False, 'license_id': None, 'license_title': None, 'maintainer': 'Pruet Boonma', 'maintainer_email': 'pruet.b@cmu.ac.th', 'metadata_created': '2021-12-02T02:32:37.421937', 'metadata_modified': '2021-12-02T02:39:47.011241', 'name': 'dischargedstudentrecord', 'notes': 'Discharged student record, i.e., GPA and accumulative credit, per semester', 'num_resources': 0, 'num_tags': 5, 'organization': {'id': '12b44fd7-a60c-4f0a-a0a0-254f7b307ff3', 'name': 'registrationoffice', 'title': 'Registration Office', 'type': 'organization', 'description': '', 'image_url': 'https://www.reg.cmu.ac.th/webreg/wp-content/uploads/2020/07/cropped-reglogo-1-4.png', 'created': '2021-11-30T16:11:00.017034', 'is_organization': True, 'approval_status': 'approved', 'state': 'active'}, 'owner_org': '12b44fd7-a60c-4f0a-a0a0-254f7b307ff3', 'private': False, 'state': 'active', 'title': 'Discharged Student Record', 'type': 'dataset', 'url': 'http://apiv2.reg.cmu.ac.th/explorer/', 'version': None, 'extras': [{'key': 'AdvisorAccess', 'value': 'No'}, {'key': 'DepartmentAccess', 'value': 'OwnDepartment'}, {'key': 'FacultyAccess', 'value': 'OwnFaculty'}, {'key': 'PDPA', 'value': 'Sensitive'}, {'key': 'PublicAccess', 'value': 'No'}, {'key': 'RetainPolicy', 'value': 'Permanent Record'}, {'key': 'StudentAccess', 'value': 'No'}, {'key': 'UniversityAccess', 'value': 'All'}, {'key': 'UpdatePolicy', 'value': 'Daily'}], 'tags': [{'display_name': 'discharged', 'id': 'd64a429f-c7e5-4979-af31-c24ee158027d', 'name': 'discharged', 'state': 'active', 'vocabulary_id': None}, {'display_name': 'gpa', 'id': 'a4fc31d8-4d60-4510-9bfc-159246ebfc47', 'name': 'gpa', 'state': 'active', 'vocabulary_id': None}, {'display_name': 'record', 'id': 'd06c47a2-5d8b-402d-913f-0981a41c5250', 'name': 'record', 'state': 'active', 'vocabulary_id': None}, {'display_name': 'semester', 'id': '3c7d3c85-2619-4808-898f-637dc184d50c', 'name': 'semester', 'state': 'active', 'vocabulary_id': None}, {'display_name': 'student', 'id': '0dde448d-6437-4086-9d8f-57c13fc9ff22', 'name': 'student', 'state': 'active', 'vocabulary_id': None}], 'resources': [], 'groups': [], 'relationships_as_subject': [], 'relationships_as_object': []}}\n",
      "b90d12ad-6663-41ed-b957-ee5592cfe9f7\n",
      "graduatedstudent\n",
      "{'help': 'http://10.110.2.208/api/3/action/help_show?name=package_show', 'success': True, 'result': {'author': 'Pruet Boonma', 'author_email': 'pruet.b@cmu.ac.th', 'creator_user_id': '71acce18-1a54-43b2-adb7-23a0494312f6', 'id': 'f56fccb1-3f26-47c9-85d7-7495436c44d7', 'isopen': False, 'license_id': None, 'license_title': None, 'maintainer': 'Pruet Boonma', 'maintainer_email': 'pruet.b@cmu.ac.th', 'metadata_created': '2021-12-02T02:32:37.923552', 'metadata_modified': '2021-12-02T02:39:47.500236', 'name': 'graduatedstudent', 'notes': 'Personal information of graduated students, of all levels and types.', 'num_resources': 0, 'num_tags': 2, 'organization': {'id': '12b44fd7-a60c-4f0a-a0a0-254f7b307ff3', 'name': 'registrationoffice', 'title': 'Registration Office', 'type': 'organization', 'description': '', 'image_url': 'https://www.reg.cmu.ac.th/webreg/wp-content/uploads/2020/07/cropped-reglogo-1-4.png', 'created': '2021-11-30T16:11:00.017034', 'is_organization': True, 'approval_status': 'approved', 'state': 'active'}, 'owner_org': '12b44fd7-a60c-4f0a-a0a0-254f7b307ff3', 'private': False, 'state': 'active', 'title': 'Graduated Student', 'type': 'dataset', 'url': 'http://apiv2.reg.cmu.ac.th/explorer/', 'version': None, 'extras': [{'key': 'AdvisorAccess', 'value': 'No'}, {'key': 'DepartmentAccess', 'value': 'OwnDepartment'}, {'key': 'FacultyAccess', 'value': 'OwnFaculty'}, {'key': 'PDPA', 'value': 'Private'}, {'key': 'PublicAccess', 'value': 'No'}, {'key': 'RetainPolicy', 'value': 'Permanent Record'}, {'key': 'StudentAccess', 'value': 'No'}, {'key': 'UniversityAccess', 'value': 'All'}, {'key': 'UpdatePolicy', 'value': 'Daily'}], 'tags': [{'display_name': 'graduated', 'id': '407c1155-c4e7-4f2e-92f8-468b82407a5e', 'name': 'graduated', 'state': 'active', 'vocabulary_id': None}, {'display_name': 'student', 'id': '0dde448d-6437-4086-9d8f-57c13fc9ff22', 'name': 'student', 'state': 'active', 'vocabulary_id': None}], 'resources': [], 'groups': [], 'relationships_as_subject': [], 'relationships_as_object': []}}\n",
      "f56fccb1-3f26-47c9-85d7-7495436c44d7\n",
      "graduatedstudentrecord\n",
      "{'help': 'http://10.110.2.208/api/3/action/help_show?name=package_show', 'success': True, 'result': {'author': 'Pruet Boonma', 'author_email': 'pruet.b@cmu.ac.th', 'creator_user_id': '71acce18-1a54-43b2-adb7-23a0494312f6', 'id': '06efc279-b3a0-4701-b6e8-ca64130b8bcd', 'isopen': False, 'license_id': None, 'license_title': None, 'maintainer': 'Pruet Boonma', 'maintainer_email': 'pruet.b@cmu.ac.th', 'metadata_created': '2021-12-02T02:32:38.438231', 'metadata_modified': '2021-12-02T02:39:47.949503', 'name': 'graduatedstudentrecord', 'notes': 'Graduated student record, i.e., GPA and accumulative credit, per semester', 'num_resources': 0, 'num_tags': 5, 'organization': {'id': '12b44fd7-a60c-4f0a-a0a0-254f7b307ff3', 'name': 'registrationoffice', 'title': 'Registration Office', 'type': 'organization', 'description': '', 'image_url': 'https://www.reg.cmu.ac.th/webreg/wp-content/uploads/2020/07/cropped-reglogo-1-4.png', 'created': '2021-11-30T16:11:00.017034', 'is_organization': True, 'approval_status': 'approved', 'state': 'active'}, 'owner_org': '12b44fd7-a60c-4f0a-a0a0-254f7b307ff3', 'private': False, 'state': 'active', 'title': 'Graduated Student Record', 'type': 'dataset', 'url': 'http://apiv2.reg.cmu.ac.th/explorer/', 'version': None, 'extras': [{'key': 'AdvisorAccess', 'value': 'No'}, {'key': 'DepartmentAccess', 'value': 'OwnDepartment'}, {'key': 'FacultyAccess', 'value': 'OwnFaculty'}, {'key': 'PDPA', 'value': 'Sensitive'}, {'key': 'PublicAccess', 'value': 'No'}, {'key': 'RetainPolicy', 'value': 'Permanent Record'}, {'key': 'StudentAccess', 'value': 'No'}, {'key': 'UniversityAccess', 'value': 'All'}, {'key': 'UpdatePolicy', 'value': 'Daily'}], 'tags': [{'display_name': 'gpa', 'id': 'a4fc31d8-4d60-4510-9bfc-159246ebfc47', 'name': 'gpa', 'state': 'active', 'vocabulary_id': None}, {'display_name': 'graduate', 'id': '4599fc36-e644-4d2d-8c7b-babf760ba7a8', 'name': 'graduate', 'state': 'active', 'vocabulary_id': None}, {'display_name': 'record', 'id': 'd06c47a2-5d8b-402d-913f-0981a41c5250', 'name': 'record', 'state': 'active', 'vocabulary_id': None}, {'display_name': 'semester', 'id': '3c7d3c85-2619-4808-898f-637dc184d50c', 'name': 'semester', 'state': 'active', 'vocabulary_id': None}, {'display_name': 'student', 'id': '0dde448d-6437-4086-9d8f-57c13fc9ff22', 'name': 'student', 'state': 'active', 'vocabulary_id': None}], 'resources': [], 'groups': [], 'relationships_as_subject': [], 'relationships_as_object': []}}\n",
      "06efc279-b3a0-4701-b6e8-ca64130b8bcd\n",
      "providedcourse\n",
      "{'help': 'http://10.110.2.208/api/3/action/help_show?name=package_show', 'success': True, 'result': {'author': 'Pruet Boonma', 'author_email': 'pruet.b@cmu.ac.th', 'creator_user_id': '71acce18-1a54-43b2-adb7-23a0494312f6', 'id': '760b69af-a2bb-4c6c-958c-430afe6990d9', 'isopen': False, 'license_id': None, 'license_title': None, 'maintainer': 'Pruet Boonma', 'maintainer_email': 'pruet.b@cmu.ac.th', 'metadata_created': '2021-12-02T02:32:38.988502', 'metadata_modified': '2021-12-02T02:39:48.434006', 'name': 'providedcourse', 'notes': 'Provided course information by semester, with room and instructor detail', 'num_resources': 0, 'num_tags': 3, 'organization': {'id': '12b44fd7-a60c-4f0a-a0a0-254f7b307ff3', 'name': 'registrationoffice', 'title': 'Registration Office', 'type': 'organization', 'description': '', 'image_url': 'https://www.reg.cmu.ac.th/webreg/wp-content/uploads/2020/07/cropped-reglogo-1-4.png', 'created': '2021-11-30T16:11:00.017034', 'is_organization': True, 'approval_status': 'approved', 'state': 'active'}, 'owner_org': '12b44fd7-a60c-4f0a-a0a0-254f7b307ff3', 'private': False, 'state': 'active', 'title': 'Provided Course', 'type': 'dataset', 'url': 'http://apiv2.reg.cmu.ac.th/explorer/', 'version': None, 'extras': [{'key': 'AdvisorAccess', 'value': 'All'}, {'key': 'DepartmentAccess', 'value': 'All'}, {'key': 'FacultyAccess', 'value': 'All'}, {'key': 'PDPA', 'value': 'Public'}, {'key': 'PublicAccess', 'value': 'All'}, {'key': 'RetainPolicy', 'value': 'Permanent Record'}, {'key': 'StudentAccess', 'value': 'All'}, {'key': 'UniversityAccess', 'value': 'All'}, {'key': 'UpdatePolicy', 'value': 'Daily'}], 'tags': [{'display_name': 'course', 'id': '9e421f4c-849d-4898-a524-18aa27811e8b', 'name': 'course', 'state': 'active', 'vocabulary_id': None}, {'display_name': 'instructor', 'id': '043a8b56-c447-478f-9ae5-dcc64db1f7c6', 'name': 'instructor', 'state': 'active', 'vocabulary_id': None}, {'display_name': 'semester', 'id': '3c7d3c85-2619-4808-898f-637dc184d50c', 'name': 'semester', 'state': 'active', 'vocabulary_id': None}], 'resources': [], 'groups': [], 'relationships_as_subject': [], 'relationships_as_object': []}}\n",
      "760b69af-a2bb-4c6c-958c-430afe6990d9\n",
      "studentandguardianaddress\n",
      "{'help': 'http://10.110.2.208/api/3/action/help_show?name=package_show', 'success': True, 'result': {'author': 'Pruet Boonma', 'author_email': 'pruet.b@cmu.ac.th', 'creator_user_id': '71acce18-1a54-43b2-adb7-23a0494312f6', 'id': '38771c8b-cb80-468f-93a8-414f18f82802', 'isopen': False, 'license_id': None, 'license_title': None, 'maintainer': 'Pruet Boonma', 'maintainer_email': 'pruet.b@cmu.ac.th', 'metadata_created': '2021-12-02T02:32:39.554794', 'metadata_modified': '2021-12-02T02:39:48.872030', 'name': 'studentandguardianaddress', 'notes': 'Student and guardian postal address and telephone number.', 'num_resources': 0, 'num_tags': 4, 'organization': {'id': '12b44fd7-a60c-4f0a-a0a0-254f7b307ff3', 'name': 'registrationoffice', 'title': 'Registration Office', 'type': 'organization', 'description': '', 'image_url': 'https://www.reg.cmu.ac.th/webreg/wp-content/uploads/2020/07/cropped-reglogo-1-4.png', 'created': '2021-11-30T16:11:00.017034', 'is_organization': True, 'approval_status': 'approved', 'state': 'active'}, 'owner_org': '12b44fd7-a60c-4f0a-a0a0-254f7b307ff3', 'private': False, 'state': 'active', 'title': 'Student and Guardian Address', 'type': 'dataset', 'url': 'http://apiv2.reg.cmu.ac.th/explorer/', 'version': None, 'extras': [{'key': 'AdvisorAccess', 'value': 'OwnAdvisee'}, {'key': 'DepartmentAccess', 'value': 'OwnDepartment'}, {'key': 'FacultyAccess', 'value': 'OwnFaculty'}, {'key': 'PDPA', 'value': 'Private'}, {'key': 'PublicAccess', 'value': 'No'}, {'key': 'RetainPolicy', 'value': 'Delete with retired/graduated'}, {'key': 'StudentAccess', 'value': 'OwnRecord'}, {'key': 'UniversityAccess', 'value': 'All'}, {'key': 'UpdatePolicy', 'value': 'Daily'}], 'tags': [{'display_name': 'address', 'id': '02a0175b-c890-4719-8ca4-f9036b1da0c8', 'name': 'address', 'state': 'active', 'vocabulary_id': None}, {'display_name': 'guardian', 'id': '51a2d763-c045-4e49-a82d-3601216e1619', 'name': 'guardian', 'state': 'active', 'vocabulary_id': None}, {'display_name': 'parent', 'id': 'e562eab2-6dd6-4fce-9f6c-5590fd884709', 'name': 'parent', 'state': 'active', 'vocabulary_id': None}, {'display_name': 'student', 'id': '0dde448d-6437-4086-9d8f-57c13fc9ff22', 'name': 'student', 'state': 'active', 'vocabulary_id': None}], 'resources': [], 'groups': [], 'relationships_as_subject': [], 'relationships_as_object': []}}\n",
      "38771c8b-cb80-468f-93a8-414f18f82802\n"
     ]
    }
   ],
   "source": [
    "df = pd.read_csv(csv_file)\n",
    "for index, row in df.iterrows():\n",
    "\ttags = row['Tags'].split(',')\n",
    "\ttag_list= []\n",
    "\tfor tag in tags:\n",
    "\t\ttag_list.append({'name' : tag})\n",
    "\tdataset_dict = {\n",
    "\t\t'owner_org' : row['Organization'],\n",
    "\t\t'groups' : [\n",
    "\t\t\t{'id' : row['Group']}\n",
    "\t\t],\n",
    "\t\t'name' : row['Name'],\n",
    "\t\t'title' : row['Title'],\n",
    "\t\t'author' : row['Author'],\n",
    "\t\t'notes' : row['Notes'],\n",
    "\t\t'author_email' : row['AuthorEmail'],\n",
    "\t\t'maintainer' : row['Maintainer'],\n",
    "\t\t'maintainer_email' : row['MaintainerEmail'],\n",
    "\t\t'url' : row['Url'],\n",
    "\t\t'tags' : tag_list,\n",
    "\t\t'resource_name' : row['ResourceName'],\n",
    "\t\t'resource_url' : row['ResourceUrl'],\n",
    "\t\t'resource_format' : row['ResourceFormat'],\n",
    "\t\t'resource_description' : row['ResourceDescripiton'],\n",
    "\t\t'extras' : [\n",
    "\t\t\t{'key' : 'PublicAccess', 'value' : row['PublicAccess']},\n",
    "\t\t\t{'key' : 'UniversityAccess', 'value' : row['UniversityAccess']},\n",
    "\t\t\t{'key' : 'FacultyAccess', 'value' : row['FacultyAccess']},\n",
    "\t\t\t{'key' : 'DepartmentAccess', 'value' : row['DepartmentAccess']},\n",
    "\t\t\t{'key' : 'AdvisorAccess', 'value' : row['AdvisorAccess'] },\n",
    "\t\t\t{'key' : 'StudentAccess', 'value' : row['StudentAccess']},\n",
    "\t\t\t{'key' : 'PDPA', 'value' : row['PDPA']},\n",
    "\t\t\t{'key' : 'RetainPolicy', 'value' : row['ReatainPolicy'] },\n",
    "\t\t\t{'key' : 'UpdatePolicy', 'value' : row['UpdatePolicy'] }\n",
    "\t\t]\n",
    "\t}\n",
    "\t#if  update_package(server, api_key, dataset_dict):\n",
    "\tcreate_resource(server, api_key, dataset_dict)"
   ]
  }
 ],
 "metadata": {
  "interpreter": {
   "hash": "2a52278e80fd9c6a8d1992affb6b47f8c6981ea12db6928e5c6f7021ed7e87b3"
  },
  "kernelspec": {
   "display_name": "Python 3.9.9 64-bit (windows store)",
   "language": "python",
   "name": "python3"
  },
  "language_info": {
   "codemirror_mode": {
    "name": "ipython",
    "version": 3
   },
   "file_extension": ".py",
   "mimetype": "text/x-python",
   "name": "python",
   "nbconvert_exporter": "python",
   "pygments_lexer": "ipython3",
   "version": "3.9.9"
  },
  "orig_nbformat": 4
 },
 "nbformat": 4,
 "nbformat_minor": 2
}
